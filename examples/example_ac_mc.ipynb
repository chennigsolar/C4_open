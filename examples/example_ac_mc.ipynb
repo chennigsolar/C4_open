{
 "cells": [
  {
   "cell_type": "markdown",
   "metadata": {},
   "source": [
    "## Calculation of the Current Carrying Capacity of Buried Cables with C4_open\n",
    "### Example for ac multi-core cables with cyclic loads"
   ]
  },
  {
   "cell_type": "markdown",
   "metadata": {},
   "source": [
    "### Importing the modules"
   ]
  },
  {
   "cell_type": "code",
   "execution_count": 46,
   "metadata": {},
   "outputs": [],
   "source": [
    "# Generic modules\n",
    "import pandas as pd\n",
    "import os\n",
    "\n",
    "# C4 modules\n",
    "from c4_open.project import Project\n",
    "from c4_open.cables import Cable\n",
    "from c4_open.cyclic_rating_factors import FactorM\n",
    "from c4_open.load_profile import LoadProfile\n",
    "from c4_open import arrangements\n",
    "\n",
    "# Import project directory\n",
    "from c4_open.config import project_directory"
   ]
  },
  {
   "cell_type": "markdown",
   "metadata": {},
   "source": [
    "### Defining the Project Data\n",
    "The project data describes the arrangement of the cable and operational conditions. It is summarized in a dictionary with keys according to the following example. For the 'Calculation Case' one of the following values must be selected:\n",
    "\n",
    "* *'ac_sc'*:      Calculation for ac single-core cables\n",
    "* *'ac_sc_pipe'*: Calculation for ac single-core cables, laid in buried pipe\n",
    "* *'dc_sc'*:      Calculation for dc single-core cables\n",
    "* *'dc_sc_pipe'*: Calculation for dc single-core cables, laid in buried pipe\n",
    "* *'ac_mc'*:      Calculation for ac multi-core cables\n",
    "* *'ac_mc_pipe'*: Calculation for ac multi-core cables, laid in buried pipe\n",
    "\n",
    "The optional values are only required for the calculation of cables in pipes (*N*, *dpipe_in*, *dpipe_out*, *rho_pipe* and *theta_mean*) or the calculation of cyclic rating factors (*Y_i* and *mu*)."
   ]
  },
  {
   "cell_type": "code",
   "execution_count": 47,
   "metadata": {},
   "outputs": [],
   "source": [
    "project_parameters = {'name': 'ac multicore cable',\n",
    "                      'calc_case': 'ac_mc',\n",
    "                      'F': 1,               # Mutual heating factor F\n",
    "                      'K': '',              # Number of cables in pipe (optional)\n",
    "                      'L': 0.7,             # Depth of laying\n",
    "                      'N': 1,               # Total number of parallel cables (or pipes)\n",
    "                      'U_0': 462,         # Phase-ground voltage (only for ac cables)\n",
    "                      'U_n': 800,         # Phase-phase voltage (only for ac cables)\n",
    "                      'f': 50,              # Mains frequency     \n",
    "                      'cable_type': 'NAYY-J 4x240',  # Cable type according to 'cable_data.xlsx'\n",
    "                      'deltatheta_x': 15,   # Critical temperature rise of soil above drying of soil occurs\n",
    "                      'dpipe_in': '',       # Inner pipe diameter (optional)\n",
    "                      'dpipe_out': '',      # External pipe diameter (optional)   \n",
    "                      'theta_mean': '',     # Mean air temperature inside pipe (optional), \n",
    "                                            # a good assumption is mean of ambient temperature and max. conductor temperature  \n",
    "                      'rho_T4': 1,          # Thermal resistivity of soil\n",
    "                      'rho_pipe': '',       # Thermal resistivity of pipe material (optional)\n",
    "                      'theta_amb': 20,      # Ambient temperature\n",
    "                      \n",
    "                      }"
   ]
  },
  {
   "cell_type": "markdown",
   "metadata": {},
   "source": [
    "### Create the project object"
   ]
  },
  {
   "cell_type": "code",
   "execution_count": 48,
   "metadata": {},
   "outputs": [],
   "source": [
    "project = Project(**project_parameters)"
   ]
  },
  {
   "cell_type": "markdown",
   "metadata": {},
   "source": [
    "### Calculating the mutual heating factor and updating the project parameters\n",
    "This step is optional and for the case the mutual heating factor of groups of cables is not already given in the *projects_parameters* and must be calculated. In this case the mutual heating factor is calculated using the 'create_arrangement' function from the module 'arrangements'."
   ]
  },
  {
   "cell_type": "code",
   "execution_count": 49,
   "metadata": {},
   "outputs": [],
   "source": [
    "# The calculation functions requires the laying depth of the cable and the exernal cable diameter in \n",
    "# units of m. The cable diameter and the laying depth are taken from the project object.\n",
    "F,_,_,_ = arrangements.create_arrangement('single', 2, project.D_e / 1000, 0.07, project.L)\n",
    "\n",
    "# Save the mutual heating factor F in the project object\n",
    "project.F = F"
   ]
  },
  {
   "cell_type": "markdown",
   "metadata": {},
   "source": [
    "### Create the load profile object\n",
    "For the calculation of the load profile parameters the *LoadProfile* class can be used. It processes the parameters from data provided in an .xlsx., which must meet the following requirements:\n",
    "* The column with the load profile data must be labeled with *'load'*\n",
    "* Must comprise hourly values for one day, e.g. 24 values\n",
    "The method *LoadProfile.get_parameters()* returns a dictionary with the required parameters. "
   ]
  },
  {
   "cell_type": "code",
   "execution_count": 50,
   "metadata": {},
   "outputs": [
    {
     "name": "stdout",
     "output_type": "stream",
     "text": [
      "                               0\n",
      "name          ac multicore cable\n",
      "calc_case                  ac_mc\n",
      "F                              1\n",
      "K                               \n",
      "L                            0.7\n",
      "N                              1\n",
      "U_0                          462\n",
      "U_n                          800\n",
      "f                             50\n",
      "cable_type       NAYY-J 4x240mm²\n",
      "deltatheta_x           35.037858\n",
      "dpipe_in                        \n",
      "dpipe_out                       \n",
      "theta_mean                      \n",
      "rho_T4                         1\n",
      "rho_pipe                        \n",
      "theta_amb                     20\n",
      "Y_0                          1.0\n",
      "Y_1                          1.0\n",
      "Y_2                          1.0\n",
      "Y_3                          1.0\n",
      "Y_4                          1.0\n",
      "Y_5                     0.727687\n",
      "mu                      0.328415\n",
      "m                       0.398563\n",
      "Y_0_hour                      13\n"
     ]
    },
    {
     "data": {
      "text/plain": [
       "<c4_open.project.Project at 0x7b1a06ee0bc0>"
      ]
     },
     "execution_count": 50,
     "metadata": {},
     "output_type": "execute_result"
    }
   ],
   "source": [
    "path = os.path.join(project_directory, './examples/example_load_profile.xlsx')\n",
    "load_profile = LoadProfile(path)\n",
    "load_profile_parameters = load_profile.get_parameters()\n",
    "project_parameters.update(load_profile_parameters)\n",
    "# Converted to DataFrame for better readability only\n",
    "print(pd.DataFrame.from_dict(project_parameters, orient='index'))\n",
    "\n",
    "# Update the delta_theta_x of the project\n",
    "project.get_delta_theta_x(load_profile)"
   ]
  },
  {
   "cell_type": "markdown",
   "metadata": {},
   "source": [
    "### Plotting load profile\n",
    "The method *LoadProfile.get_results()* returns a DataFrame with the load profile parameters which can be plotted in a very simple way."
   ]
  },
  {
   "cell_type": "code",
   "execution_count": 51,
   "metadata": {},
   "outputs": [
    {
     "data": {
      "text/plain": [
       "<Axes: >"
      ]
     },
     "execution_count": 51,
     "metadata": {},
     "output_type": "execute_result"
    },
    {
     "data": {
      "image/png": "[encoded data removed]",
      "text/plain": [
       "<Figure size 640x480 with 1 Axes>"
      ]
     },
     "metadata": {},
     "output_type": "display_data"
    }
   ],
   "source": [
    "load_profile.get_results().plot()"
   ]
  },
  {
   "cell_type": "markdown",
   "metadata": {},
   "source": [
    "### Create the cable object\n",
    "To create a *cable* object the *project* object is required as the first argument. The optional argument *external_resistance_method* allows to chose a specific method to calculate the external thermal resistance of the cable *T_4*. Possible options are *'three_trefoil'*, *'three_flat'* and *'two_flat'* If no option is set, the default method *'from_F'* will be considered and the external thermal resistance will be calculated by using the mutual heating factor *F* as defined in the *project*.\n",
    "\n",
    "The method Cable.get_result() will return a dictionary with the most relevant calculation results incl. two current carryng capacities. *I (no dryzone)* is \n",
    "calculated by ignoring a potentially arising dry zone while *I (with dryzone)* is the value considering a dry zone."
   ]
  },
  {
   "cell_type": "code",
   "execution_count": 52,
   "metadata": {},
   "outputs": [
    {
     "name": "stdout",
     "output_type": "stream",
     "text": [
      "                            0\n",
      "Y_s                  0.003645\n",
      "Y_p                  0.007126\n",
      "R                    0.000152\n",
      "W_d                  0.000233\n",
      "T_1                  0.286453\n",
      "T_3                  0.090420\n",
      "T_4                  1.014751\n",
      "I (no dry zone)    302.579656\n",
      "I (with dry zone)  287.765806\n"
     ]
    }
   ],
   "source": [
    "cable = Cable(project)\n",
    "ampacities = cable.get_result()\n",
    "\n",
    "# Converted to DataFrame for better readability only\n",
    "print(pd.DataFrame.from_dict(ampacities, orient='index'))"
   ]
  },
  {
   "cell_type": "markdown",
   "metadata": {},
   "source": [
    "### Calculating the Cyclic Rating Factor M\n",
    "The *FactorM* class provides a simple interface to the different calculation functions depending on the calculation case. The method *FactorM.get_result()* returns a dictionary with the factors:\n",
    "* *M (with dry zone)*:    Cyclic rating factor for current corresponding to a steady state current carrying capacity considering a dry zone around the cable  \n",
    "* *M_1 (with dry zone)*:  Cyclic rating factor corrected for moisture migration for calculations considering a dry zone; in case the surface temperatur doesn't exceed the critical temperature rise (*delta_theta_x*), moisture migration will not occure and the method will return 'None' \n",
    "* *M (no dry zone)*:      Cyclic rating factor for current corresponding to a steady state current carrying capacity without considering a dry zone around the cable  \n"
   ]
  },
  {
   "cell_type": "code",
   "execution_count": 53,
   "metadata": {},
   "outputs": [
    {
     "name": "stdout",
     "output_type": "stream",
     "text": [
      "                          0\n",
      "M (with dry zone)  1.103688\n",
      "M_1                     NaN\n",
      "M (no dry zone)    1.116624\n"
     ]
    }
   ],
   "source": [
    "M = FactorM(cable, load_profile)\n",
    "cyclic_rating_factors = M.get_result()\n",
    "# Converted to DataFrame for better readability only\n",
    "print(pd.DataFrame.from_dict(cyclic_rating_factors, orient='index')) "
   ]
  },
  {
   "cell_type": "markdown",
   "metadata": {},
   "source": [
    "### Final Result\n",
    "In this example case no value for *M_1* is returned. This means that no dry zone around the cable will arise under the given cyclic load and cable arrangement. Therefore the calculated current carrying capacity without dry zone around the cable *I (no dry zone)* must be taken and multiplied with the value for *M (no dry zone)*. The result is the current carrying capacity of the cable under the given cyclic load."
   ]
  },
  {
   "cell_type": "code",
   "execution_count": 54,
   "metadata": {},
   "outputs": [
    {
     "name": "stdout",
     "output_type": "stream",
     "text": [
      "Current carrying capacity [A]: 337.9\n"
     ]
    }
   ],
   "source": [
    "I = ampacities['I (no dry zone)'] * cyclic_rating_factors['M (no dry zone)']\n",
    "print('Current carrying capacity [A]:', round(I, 1))"
   ]
  },
  {
   "cell_type": "markdown",
   "metadata": {},
   "source": [
    "### Reports"
   ]
  },
  {
   "cell_type": "code",
   "execution_count": 55,
   "metadata": {},
   "outputs": [
    {
     "name": "stdout",
     "output_type": "stream",
     "text": [
      "cable_type              NAYY-J 4x240mm²\n",
      "theta_max                          70.0\n",
      "R__20                          0.000125\n",
      "alpha_con                         0.004\n",
      "R_                              0.00015\n",
      "C                                   0.0\n",
      "R__scr20                            NaN\n",
      "alpha_scr                           NaN\n",
      "d_out                              54.0\n",
      "t_ins                               2.2\n",
      "t_sheath                            2.9\n",
      "n                                     3\n",
      "rho_T1                              5.0\n",
      "rho_T3                              5.0\n",
      "d_a                                48.2\n",
      "r_1                                21.6\n",
      "U_n                               800.0\n",
      "U_0                               462.0\n",
      "f                                  50.0\n",
      "L                                   0.7\n",
      "factor_F                      11.334522\n",
      "rho_T4                              1.0\n",
      "theta_amb                          20.0\n",
      "deltatheta_x                  35.037858\n",
      "Y_s                            0.003645\n",
      "Y_p                            0.007126\n",
      "R                              0.000152\n",
      "W_d                            0.000233\n",
      "T_1                            0.286453\n",
      "T_3                             0.09042\n",
      "T_4                            1.014751\n",
      "I (with dry zone)            287.765806\n",
      "I (without dry zone)         302.579656\n",
      "dtype: object\n"
     ]
    }
   ],
   "source": [
    "report = cable.get_report()\n",
    "print(pd.Series(report))"
   ]
  },
  {
   "cell_type": "code",
   "execution_count": 57,
   "metadata": {},
   "outputs": [
    {
     "name": "stdout",
     "output_type": "stream",
     "text": [
      "W            37.665711\n",
      "L             0.700000\n",
      "d_out        54.000000\n",
      "rho_T4        1.000000\n",
      "theta_amb    20.000000\n",
      "theta_max    70.000000\n",
      "mu            0.328415\n",
      "Y_0           1.000000\n",
      "Y_1           1.000000\n",
      "Y_2           1.000000\n",
      "Y_3           1.000000\n",
      "Y_4           1.000000\n",
      "Y_5           0.727687\n",
      "k             0.473387\n",
      "beta_1        0.229421\n",
      "beta_2        0.311024\n",
      "beta_3        0.360277\n",
      "beta_4        0.395654\n",
      "beta_5        0.423278\n",
      "beta_6        0.445943\n",
      "phi_0         0.229421\n",
      "phi_1         0.081602\n",
      "phi_2         0.049253\n",
      "phi_3         0.035377\n",
      "phi_4         0.027624\n",
      "phi_5         0.022665\n",
      "B                  NaN\n",
      "M             1.116624\n",
      "theta_SPK          NaN\n",
      "M_1                NaN\n",
      "dtype: float64\n"
     ]
    }
   ],
   "source": [
    "report = M.get_report()\n",
    "print(pd.Series(report))"
   ]
  }
 ],
 "metadata": {
  "kernelspec": {
   "display_name": ".venv",
   "language": "python",
   "name": "python3"
  },
  "language_info": {
   "codemirror_mode": {
    "name": "ipython",
    "version": 3
   },
   "file_extension": ".py",
   "mimetype": "text/x-python",
   "name": "python",
   "nbconvert_exporter": "python",
   "pygments_lexer": "ipython3",
   "version": "3.12.3"
  }
 },
 "nbformat": 4,
 "nbformat_minor": 4
}
